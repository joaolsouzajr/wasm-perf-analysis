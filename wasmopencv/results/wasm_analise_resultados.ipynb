{
 "cells": [
  {
   "cell_type": "markdown",
   "metadata": {},
   "source": [
    "# WASM -  Análise Estatiscas\n",
    "\n",
    "Análise dos dados de execução do processamento de detecção de faces compilados com WebAssembly versus compilação nativa com visual C++. O objetivo desta pesqusias em constatar a diferença de performance entre um código compilado p/ WebAssembly e outro com compilaçção nativa."
   ]
  },
  {
   "cell_type": "markdown",
   "metadata": {},
   "source": [
    "## Ferramentas para analise"
   ]
  },
  {
   "cell_type": "code",
   "execution_count": 1,
   "metadata": {},
   "outputs": [],
   "source": [
    "import numpy as np\n",
    "import pandas as pd\n",
    "import os\n",
    "import matplotlib\n",
    "import matplotlib.pyplot as plt\n",
    "import matplotlib.gridspec as gridspec"
   ]
  },
  {
   "cell_type": "markdown",
   "metadata": {},
   "source": [
    "## Dados de testes\n",
    "\n",
    "O conjunto de dados de teste é formado por três vídeos selecionados a partir do *site* YouTube.\n",
    "Os critérios de seleção foram: ser um video de acesso publico, ou seja, sem restrições para reprodução e estar \n",
    "disponível em formato MPEG-4 com resolução padrão de 1920px por 1080px."
   ]
  },
  {
   "cell_type": "code",
   "execution_count": 2,
   "metadata": {},
   "outputs": [
    {
     "data": {
      "text/html": [
       "<div>\n",
       "<style scoped>\n",
       "    .dataframe tbody tr th:only-of-type {\n",
       "        vertical-align: middle;\n",
       "    }\n",
       "\n",
       "    .dataframe tbody tr th {\n",
       "        vertical-align: top;\n",
       "    }\n",
       "\n",
       "    .dataframe thead th {\n",
       "        text-align: right;\n",
       "    }\n",
       "</style>\n",
       "<table border=\"1\" class=\"dataframe\">\n",
       "  <thead>\n",
       "    <tr style=\"text-align: right;\">\n",
       "      <th></th>\n",
       "      <th>id</th>\n",
       "      <th>extension</th>\n",
       "      <th>resolution</th>\n",
       "      <th>frames</th>\n",
       "      <th>fps</th>\n",
       "      <th>youtube_link</th>\n",
       "    </tr>\n",
       "  </thead>\n",
       "  <tbody>\n",
       "    <tr>\n",
       "      <th>0</th>\n",
       "      <td>DATASET1</td>\n",
       "      <td>mp4</td>\n",
       "      <td>1920x1080</td>\n",
       "      <td>3915</td>\n",
       "      <td>24</td>\n",
       "      <td>https://www.youtube.com/watch?v=EWUdGRAwUpY</td>\n",
       "    </tr>\n",
       "    <tr>\n",
       "      <th>1</th>\n",
       "      <td>DATASET2</td>\n",
       "      <td>mp4</td>\n",
       "      <td>1920x1080</td>\n",
       "      <td>3020</td>\n",
       "      <td>30</td>\n",
       "      <td>https://www.youtube.com/watch?v=vQtLX6pW5eA</td>\n",
       "    </tr>\n",
       "    <tr>\n",
       "      <th>2</th>\n",
       "      <td>DATASET3</td>\n",
       "      <td>mp4</td>\n",
       "      <td>1920x1080</td>\n",
       "      <td>12296</td>\n",
       "      <td>50</td>\n",
       "      <td>https://www.youtube.com/watch?v=RuL5jVqc4Tg</td>\n",
       "    </tr>\n",
       "  </tbody>\n",
       "</table>\n",
       "</div>"
      ],
      "text/plain": [
       "         id extension resolution  frames  fps  \\\n",
       "0  DATASET1       mp4  1920x1080    3915   24   \n",
       "1  DATASET2       mp4  1920x1080    3020   30   \n",
       "2  DATASET3       mp4  1920x1080   12296   50   \n",
       "\n",
       "                                  youtube_link  \n",
       "0  https://www.youtube.com/watch?v=EWUdGRAwUpY  \n",
       "1  https://www.youtube.com/watch?v=vQtLX6pW5eA  \n",
       "2  https://www.youtube.com/watch?v=RuL5jVqc4Tg  "
      ]
     },
     "execution_count": 2,
     "metadata": {},
     "output_type": "execute_result"
    }
   ],
   "source": [
    "df_dataset = pd.read_csv('./data/dataset.csv')\n",
    "df_dataset"
   ]
  },
  {
   "cell_type": "markdown",
   "metadata": {},
   "source": [
    "## Resultados\n",
    "\n",
    "Foram feitos testes com uma aplicação nativa usado o Windows10 e com WebAssembly usando Chrome 75 e Firefox 67 executando no mesmo sistema operacional e maquina fisica com as configuraçãoes padrão de instalação. "
   ]
  },
  {
   "cell_type": "code",
   "execution_count": 3,
   "metadata": {},
   "outputs": [
    {
     "data": {
      "text/html": [
       "<div>\n",
       "<style scoped>\n",
       "    .dataframe tbody tr th:only-of-type {\n",
       "        vertical-align: middle;\n",
       "    }\n",
       "\n",
       "    .dataframe tbody tr th {\n",
       "        vertical-align: top;\n",
       "    }\n",
       "\n",
       "    .dataframe thead th {\n",
       "        text-align: right;\n",
       "    }\n",
       "</style>\n",
       "<table border=\"1\" class=\"dataframe\">\n",
       "  <thead>\n",
       "    <tr style=\"text-align: right;\">\n",
       "      <th></th>\n",
       "      <th>workload</th>\n",
       "      <th>dataset</th>\n",
       "      <th>resolution</th>\n",
       "      <th>system</th>\n",
       "      <th>total_frames</th>\n",
       "      <th>total_frames_processeds</th>\n",
       "      <th>test_total_time_ms</th>\n",
       "      <th>log_file</th>\n",
       "    </tr>\n",
       "  </thead>\n",
       "  <tbody>\n",
       "  </tbody>\n",
       "</table>\n",
       "</div>"
      ],
      "text/plain": [
       "Empty DataFrame\n",
       "Columns: [workload, dataset, resolution, system, total_frames, total_frames_processeds, test_total_time_ms, log_file]\n",
       "Index: []"
      ]
     },
     "execution_count": 3,
     "metadata": {},
     "output_type": "execute_result"
    }
   ],
   "source": [
    "df_meta_fd = pd.read_csv('./data/META_LOG_FACE_DETECT.csv')\n",
    "df_meta_fd"
   ]
  },
  {
   "cell_type": "markdown",
   "metadata": {},
   "source": [
    "## Carregar dados de teste\n",
    "\n",
    "\n"
   ]
  },
  {
   "cell_type": "code",
   "execution_count": 4,
   "metadata": {},
   "outputs": [],
   "source": [
    "#dataset_1\n",
    "df_d1sc = pd.read_csv('./data/LOG_FACE_DETECT_DATASET1_SMALL_Chrome_92_Linux.csv')\n",
    "df_d1mc = pd.read_csv('./data/LOG_FACE_DETECT_DATASET1_MEDIUM_Chrome_92_Linux.csv')\n",
    "df_d1lc = pd.read_csv('./data/LOG_FACE_DETECT_DATASET1_LARGE_Chrome_92_Linux.csv')\n",
    "df_d1sf = pd.read_csv('./data/LOG_FACE_DETECT_DATASET1_SMALL_Firefox_91_UNIX.csv')\n",
    "df_d1mf = pd.read_csv('./data/LOG_FACE_DETECT_DATASET1_MEDIUM_Firefox_91_UNIX.csv')\n",
    "df_d1lf = pd.read_csv('./data/LOG_FACE_DETECT_DATASET1_LARGE_Firefox_91_UNIX.csv')\n",
    "df_d1swin = pd.read_csv('./data/LOG_FACE_DETECT_DATASET1_SMALL_LINUX.csv')\n",
    "df_d1mwin = pd.read_csv('./data/LOG_FACE_DETECT_DATASET1_MEDIUM_LINUX.csv')\n",
    "df_d1lwin = pd.read_csv('./data/LOG_FACE_DETECT_DATASET1_LARGE_LINUX.csv')\n",
    "\n",
    "#dataset_2\n",
    "df_d2sc = pd.read_csv('./data/LOG_FACE_DETECT_DATASET2_SMALL_Chrome_92_Linux.csv')\n",
    "df_d2mc = pd.read_csv('./data/LOG_FACE_DETECT_DATASET2_MEDIUM_Chrome_92_Linux.csv')\n",
    "df_d2lc = pd.read_csv('./data/LOG_FACE_DETECT_DATASET2_LARGE_Chrome_92_Linux.csv')\n",
    "df_d2sf = pd.read_csv('./data/LOG_FACE_DETECT_DATASET2_SMALL_Firefox_91_UNIX.csv')\n",
    "df_d2mf = pd.read_csv('./data/LOG_FACE_DETECT_DATASET2_MEDIUM_Firefox_91_UNIX.csv')\n",
    "df_d2lf = pd.read_csv('./data/LOG_FACE_DETECT_DATASET2_LARGE_Firefox_91_UNIX.csv')\n",
    "df_d2swin = pd.read_csv('./data/LOG_FACE_DETECT_DATASET2_SMALL_LINUX.csv')\n",
    "df_d2mwin = pd.read_csv('./data/LOG_FACE_DETECT_DATASET2_MEDIUM_LINUX.csv')\n",
    "df_d2lwin = pd.read_csv('./data/LOG_FACE_DETECT_DATASET2_LARGE_LINUX.csv')\n",
    "\n",
    "#dataset_3\n",
    "df_d3sc = pd.read_csv('./data/LOG_FACE_DETECT_DATASET3_SMALL_Chrome_92_Linux.csv')\n",
    "df_d3mc = pd.read_csv('./data/LOG_FACE_DETECT_DATASET3_MEDIUM_Chrome_92_Linux.csv')\n",
    "df_d3lc = pd.read_csv('./data/LOG_FACE_DETECT_DATASET3_LARGE_Chrome_92_Linux.csv')\n",
    "df_d3sf = pd.read_csv('./data/LOG_FACE_DETECT_DATASET3_SMALL_Firefox_91_UNIX.csv')\n",
    "df_d3mf = pd.read_csv('./data/LOG_FACE_DETECT_DATASET3_MEDIUM_Firefox_91_UNIX.csv')\n",
    "df_d3lf = pd.read_csv('./data/LOG_FACE_DETECT_DATASET3_LARGE_Firefox_91_UNIX.csv')\n",
    "df_d3swin = pd.read_csv('./data/LOG_FACE_DETECT_DATASET3_SMALL_LINUX.csv')\n",
    "df_d3mwin = pd.read_csv('./data/LOG_FACE_DETECT_DATASET3_MEDIUM_LINUX.csv')\n",
    "df_d3lwin = pd.read_csv('./data/LOG_FACE_DETECT_DATASET3_LARGE_LINUX.csv')\n",
    "\n",
    "frames_ds1 =[df_d1sc, df_d1mc, df_d1lc, df_d1sf, df_d1mf, df_d1lf, df_d1swin, df_d1mwin, df_d1lwin]\n",
    "df_ds1 = pd.concat(frames_ds1, sort=False)\n",
    "frames_ds2 =[df_d2sc, df_d2mc, df_d2lc, df_d2sf, df_d2mf, df_d2lf, df_d2swin, df_d2mwin, df_d2lwin]\n",
    "df_ds2 = pd.concat(frames_ds2, sort=False)\n",
    "frames_ds3 =[df_d3sc, df_d3mc, df_d3lc, df_d3sf, df_d3mf, df_d3lf, df_d3swin, df_d3mwin, df_d3lwin]\n",
    "df_ds3 = pd.concat(frames_ds3, sort=False)"
   ]
  },
  {
   "cell_type": "code",
   "execution_count": 5,
   "metadata": {
    "scrolled": false
   },
   "outputs": [
    {
     "name": "stdout",
     "output_type": "stream",
     "text": [
      "DATASET1 1467 DATASET2 909 DATASET3 2214\n",
      "TOTAL 4590\n"
     ]
    }
   ],
   "source": [
    "print('DATASET1', df_ds1['id'].count(), 'DATASET2', df_ds2['id'].count(), 'DATASET3', df_ds3['id'].count())\n",
    "print('TOTAL', df_ds1['id'].count() + df_ds2['id'].count() + df_ds3['id'].count())"
   ]
  },
  {
   "cell_type": "markdown",
   "metadata": {},
   "source": [
    "## Selecionar dados de teste\n",
    "\n",
    "O criterio de uniformização dos dados é considerar apenas as medições que tiveram o mesmo numero de rostos detectados,\n",
    "para fazer isso é necessario identificar qual a quantidade de rostos detectados mais comuns que seja diferente de zero."
   ]
  },
  {
   "cell_type": "code",
   "execution_count": 6,
   "metadata": {},
   "outputs": [
    {
     "name": "stdout",
     "output_type": "stream",
     "text": [
      "DATASET1 - Rank com a quantidade mais comum de rostos detectados:\n",
      "1    639\n",
      "2    202\n",
      "3     15\n",
      "Name: faces_detected, dtype: int64\n",
      "DATASET2 - Rank com a quantidade mais comum de rostos detectados:\n",
      "1    285\n",
      "2    134\n",
      "3     23\n",
      "4      4\n",
      "5      2\n",
      "Name: faces_detected, dtype: int64\n",
      "DATASET3 - Rank com a quantidade mais comum de rostos detectados:\n",
      "1    929\n",
      "2    324\n",
      "3    230\n",
      "4     74\n",
      "5      8\n",
      "7      1\n",
      "Name: faces_detected, dtype: int64\n"
     ]
    }
   ],
   "source": [
    "ds1_faces_detected_rank = df_ds1[df_ds1[\"faces_detected\"] > 0]['faces_detected'].value_counts()\n",
    "ds2_faces_detected_rank = df_ds2[df_ds2[\"faces_detected\"] > 0]['faces_detected'].value_counts()\n",
    "ds3_faces_detected_rank = df_ds3[df_ds3[\"faces_detected\"] > 0]['faces_detected'].value_counts()\n",
    "print(\"DATASET1 - Rank com a quantidade mais comum de rostos detectados:\")\n",
    "print(ds1_faces_detected_rank)\n",
    "print(\"DATASET2 - Rank com a quantidade mais comum de rostos detectados:\")\n",
    "print(ds2_faces_detected_rank)\n",
    "print(\"DATASET3 - Rank com a quantidade mais comum de rostos detectados:\")\n",
    "print(ds3_faces_detected_rank)"
   ]
  },
  {
   "cell_type": "code",
   "execution_count": 7,
   "metadata": {},
   "outputs": [
    {
     "name": "stdout",
     "output_type": "stream",
     "text": [
      "DATASET1 639 DATASET2 285 DATASET3 929\n",
      "TOTAL 1853\n",
      "TOTAL df_ds 1853\n"
     ]
    }
   ],
   "source": [
    "#dataset_1\n",
    "df_ds1 = df_ds1[df_ds1[\"faces_detected\"] == ds1_faces_detected_rank.head(1).index[0]]\n",
    "df_ds1 = df_ds1.drop(columns=['id','workload','faces_detected','eyes_detected','workload'])\n",
    "\n",
    "#dataset_2\n",
    "df_ds2 = df_ds2[df_ds2[\"faces_detected\"] == ds2_faces_detected_rank.head(1).index[0]]\n",
    "df_ds2 = df_ds2.drop(columns=['id','workload','faces_detected','eyes_detected','workload'])\n",
    "\n",
    "#dataset_3\n",
    "df_ds3 = df_ds3[df_ds3[\"faces_detected\"] == ds3_faces_detected_rank.head(1).index[0]]\n",
    "df_ds3 = df_ds3.drop(columns=['id','workload','faces_detected','eyes_detected','workload'])\n",
    "\n",
    "frames_ds123 =[df_ds1, df_ds2, df_ds3]\n",
    "df_ds = pd.concat(frames_ds123, sort=False)\n",
    "\n",
    "print('DATASET1', df_ds1['dataset'].count(), \n",
    "      'DATASET2', df_ds2['dataset'].count(), \n",
    "      'DATASET3', df_ds3['dataset'].count())\n",
    "print('TOTAL', df_ds1['dataset'].count() + df_ds2['dataset'].count() + df_ds3['dataset'].count())\n",
    "print('TOTAL df_ds', df_ds['dataset'].count())"
   ]
  },
  {
   "cell_type": "code",
   "execution_count": 8,
   "metadata": {},
   "outputs": [],
   "source": [
    "## Constantes\n",
    "\n",
    "CHROME='Chrome_92_Linux'\n",
    "FIREFOX='Firefox_91_UNIX'\n",
    "NATIVO='LINUX'\n",
    "CHROME_L='Chrome'\n",
    "FIREFOX_L='Firefox'\n",
    "NATIVO_L='Linux'\n",
    "\n",
    "## Funções uteis\n",
    "\n",
    "def get_col(dfds, system, res, col):\n",
    "    data_col = dfds[dfds[\"system\"] == system]\n",
    "    data_col = data_col[data_col[\"resolution_label\"] == res]\n",
    "    data_col = data_col.loc[:,[col]]\n",
    "    return data_col\n",
    "\n",
    "def get_df_process_time(dfds, res):\n",
    "    crhome_process_time = get_col(dfds, CHROME, res, 'process_time_ms').rename(columns = {'process_time_ms':CHROME_L})\n",
    "    firefox_process_time = get_col(dfds, FIREFOX, res, 'process_time_ms').rename(columns = {'process_time_ms':FIREFOX_L})\n",
    "    linux_process_time = get_col(dfds, NATIVO, res, 'process_time_ms').rename(columns = {'process_time_ms':NATIVO_L})\n",
    "    frames = crhome_process_time.join(firefox_process_time)\n",
    "    frames = frames.join(linux_process_time)\n",
    "    return frames\n"
   ]
  },
  {
   "cell_type": "markdown",
   "metadata": {},
   "source": [
    "## Aalise Estatística"
   ]
  },
  {
   "cell_type": "markdown",
   "metadata": {},
   "source": [
    "**Analise Geral dos datasets unificados**"
   ]
  },
  {
   "cell_type": "markdown",
   "metadata": {},
   "source": [
    "### DATASET 1 2  e 3 - ANALISE DE OUTLIERS\n"
   ]
  },
  {
   "cell_type": "markdown",
   "metadata": {},
   "source": [
    "#### RESOLUÇÂO SMALL"
   ]
  },
  {
   "cell_type": "code",
   "execution_count": 11,
   "metadata": {
    "scrolled": true
   },
   "outputs": [
    {
     "data": {
      "image/png": "[encoded data removed]",
      "text/plain": [
       "<Figure size 432x288 with 1 Axes>"
      ]
     },
     "metadata": {
      "needs_background": "light"
     },
     "output_type": "display_data"
    }
   ],
   "source": [
    "df_proc_small = get_df_process_time(df_ds,'SMALL')\n",
    "boxplot_small = df_proc_small.boxplot()"
   ]
  },
  {
   "cell_type": "markdown",
   "metadata": {},
   "source": [
    "#### RESOLUÇÃO MEDIUM"
   ]
  },
  {
   "cell_type": "code",
   "execution_count": 12,
   "metadata": {},
   "outputs": [
    {
     "data": {
      "image/png": "[encoded data removed]",
      "text/plain": [
       "<Figure size 432x288 with 1 Axes>"
      ]
     },
     "metadata": {
      "needs_background": "light"
     },
     "output_type": "display_data"
    }
   ],
   "source": [
    "df_proc_medium = get_df_process_time(df_ds,'MEDIUM')\n",
    "boxplot_medium = df_proc_medium.boxplot()"
   ]
  },
  {
   "cell_type": "markdown",
   "metadata": {},
   "source": [
    "#### RESOLUÇÂO LARGE"
   ]
  },
  {
   "cell_type": "code",
   "execution_count": 13,
   "metadata": {},
   "outputs": [
    {
     "data": {
      "image/png": "[encoded data removed]",
      "text/plain": [
       "<Figure size 432x288 with 1 Axes>"
      ]
     },
     "metadata": {
      "needs_background": "light"
     },
     "output_type": "display_data"
    }
   ],
   "source": [
    "df_proc_large = get_df_process_time(df_ds,'LARGE')\n",
    "boxplot_large = df_proc_large.boxplot()"
   ]
  },
  {
   "cell_type": "markdown",
   "metadata": {},
   "source": [
    "#### REMOVENDO OUTLIERS"
   ]
  },
  {
   "cell_type": "code",
   "execution_count": 14,
   "metadata": {
    "scrolled": true
   },
   "outputs": [
    {
     "name": "stdout",
     "output_type": "stream",
     "text": [
      "           Chrome     Firefox       Linux\n",
      "count  323.000000  257.000000  297.000000\n",
      "mean   113.900929  117.486381   31.939394\n",
      "std     16.335651   15.619524   10.244133\n",
      "min     79.000000   83.000000   19.000000\n",
      "25%    103.000000  107.000000   25.000000\n",
      "50%    111.000000  114.000000   33.000000\n",
      "75%    121.000000  125.000000   38.000000\n",
      "max    161.000000  152.000000  123.000000\n",
      "           Chrome     Firefox       Linux\n",
      "count  431.000000  357.000000  379.000000\n",
      "mean   257.387471  261.221289   74.649077\n",
      "std     50.040270   49.928418   21.935953\n",
      "min    170.000000  176.000000   39.000000\n",
      "25%    216.500000  218.000000   57.000000\n",
      "50%    245.000000  253.000000   71.000000\n",
      "75%    302.000000  288.000000   92.000000\n",
      "max    354.000000  362.000000  152.000000\n",
      "            Chrome     Firefox       Linux\n",
      "count   368.000000  293.000000  332.000000\n",
      "mean    558.307065  580.699659  174.457831\n",
      "std     156.710204  150.534249   46.978378\n",
      "min     340.000000  357.000000  105.000000\n",
      "25%     424.000000  446.000000  139.000000\n",
      "50%     504.000000  550.000000  151.000000\n",
      "75%     672.250000  685.000000  206.000000\n",
      "max    1016.000000  907.000000  289.000000\n",
      "124.90393007145967\n"
     ]
    }
   ],
   "source": [
    "stats_small = df_proc_small.describe()\n",
    "stats_medium = df_proc_medium.describe()\n",
    "stats_large = df_proc_large.describe()\n",
    "print(stats_small)\n",
    "print(stats_medium)\n",
    "print(stats_large)\n",
    "\n",
    "stats = {'SMALL':stats_small, 'MEDIUM':stats_medium, 'LARGE':stats_large}\n",
    "\n",
    "def get_lim_sup(res, system_label):\n",
    "    std = stats[res].loc['std'][system_label]\n",
    "    q3 = stats[res].loc['75%'][system_label]\n",
    "    return q3 + 1.5*std\n",
    "\n",
    "def get_lim_inf(res, system_label):\n",
    "    std = stats[res].loc['std'][system_label]\n",
    "    q1 = stats[res].loc['25%'][system_label]\n",
    "    return q1 - 1.5*std\n",
    "\n",
    "lim_sup_s_c = get_lim_sup('SMALL', CHROME_L);\n",
    "lim_sup_m_c = get_lim_sup('MEDIUM', CHROME_L);\n",
    "lim_sup_l_c = get_lim_sup('LARGE', CHROME_L);\n",
    "\n",
    "lim_sup_s_f = get_lim_sup('SMALL', FIREFOX_L);\n",
    "lim_sup_m_f = get_lim_sup('MEDIUM', FIREFOX_L);\n",
    "lim_sup_l_f = get_lim_sup('LARGE', FIREFOX_L);\n",
    "\n",
    "lim_sup_s_n = get_lim_sup('SMALL', NATIVO_L);\n",
    "lim_sup_m_n = get_lim_sup('MEDIUM', NATIVO_L);\n",
    "lim_sup_l_n = get_lim_sup('LARGE', NATIVO_L);\n",
    "\n",
    "lim_inf_s_c = get_lim_inf('SMALL', CHROME_L);\n",
    "lim_inf_m_c = get_lim_inf('MEDIUM', CHROME_L);\n",
    "lim_inf_l_c = get_lim_inf('LARGE', CHROME_L);\n",
    "\n",
    "lim_inf_s_f = get_lim_inf('SMALL', FIREFOX_L);\n",
    "lim_inf_m_f = get_lim_inf('MEDIUM', FIREFOX_L);\n",
    "lim_inf_l_f = get_lim_inf('LARGE', FIREFOX_L);\n",
    "\n",
    "lim_inf_s_n = get_lim_inf('SMALL', NATIVO_L);\n",
    "lim_inf_m_n = get_lim_inf('MEDIUM', NATIVO_L);\n",
    "lim_inf_l_n = get_lim_inf('LARGE', NATIVO_L);\n",
    "\n",
    "print(lim_sup_m_n)\n"
   ]
  },
  {
   "cell_type": "code",
   "execution_count": 15,
   "metadata": {},
   "outputs": [
    {
     "data": {
      "text/html": [
       "<div>\n",
       "<style scoped>\n",
       "    .dataframe tbody tr th:only-of-type {\n",
       "        vertical-align: middle;\n",
       "    }\n",
       "\n",
       "    .dataframe tbody tr th {\n",
       "        vertical-align: top;\n",
       "    }\n",
       "\n",
       "    .dataframe thead th {\n",
       "        text-align: right;\n",
       "    }\n",
       "</style>\n",
       "<table border=\"1\" class=\"dataframe\">\n",
       "  <thead>\n",
       "    <tr style=\"text-align: right;\">\n",
       "      <th></th>\n",
       "      <th>dataset</th>\n",
       "      <th>process_time_ms</th>\n",
       "      <th>pre_time_ms</th>\n",
       "      <th>tag_time_ms</th>\n",
       "      <th>pos_time_ms</th>\n",
       "      <th>total_time_ms</th>\n",
       "      <th>system</th>\n",
       "      <th>resolution_label</th>\n",
       "    </tr>\n",
       "  </thead>\n",
       "  <tbody>\n",
       "    <tr>\n",
       "      <th>3</th>\n",
       "      <td>DATASET1</td>\n",
       "      <td>103</td>\n",
       "      <td>0</td>\n",
       "      <td>0</td>\n",
       "      <td>0</td>\n",
       "      <td>109</td>\n",
       "      <td>Chrome_92_Linux</td>\n",
       "      <td>SMALL</td>\n",
       "    </tr>\n",
       "    <tr>\n",
       "      <th>5</th>\n",
       "      <td>DATASET1</td>\n",
       "      <td>105</td>\n",
       "      <td>0</td>\n",
       "      <td>0</td>\n",
       "      <td>0</td>\n",
       "      <td>111</td>\n",
       "      <td>Chrome_92_Linux</td>\n",
       "      <td>SMALL</td>\n",
       "    </tr>\n",
       "    <tr>\n",
       "      <th>7</th>\n",
       "      <td>DATASET1</td>\n",
       "      <td>102</td>\n",
       "      <td>0</td>\n",
       "      <td>0</td>\n",
       "      <td>0</td>\n",
       "      <td>108</td>\n",
       "      <td>Chrome_92_Linux</td>\n",
       "      <td>SMALL</td>\n",
       "    </tr>\n",
       "    <tr>\n",
       "      <th>8</th>\n",
       "      <td>DATASET1</td>\n",
       "      <td>115</td>\n",
       "      <td>0</td>\n",
       "      <td>0</td>\n",
       "      <td>0</td>\n",
       "      <td>121</td>\n",
       "      <td>Chrome_92_Linux</td>\n",
       "      <td>SMALL</td>\n",
       "    </tr>\n",
       "    <tr>\n",
       "      <th>10</th>\n",
       "      <td>DATASET1</td>\n",
       "      <td>114</td>\n",
       "      <td>0</td>\n",
       "      <td>0</td>\n",
       "      <td>0</td>\n",
       "      <td>120</td>\n",
       "      <td>Chrome_92_Linux</td>\n",
       "      <td>SMALL</td>\n",
       "    </tr>\n",
       "    <tr>\n",
       "      <th>...</th>\n",
       "      <td>...</td>\n",
       "      <td>...</td>\n",
       "      <td>...</td>\n",
       "      <td>...</td>\n",
       "      <td>...</td>\n",
       "      <td>...</td>\n",
       "      <td>...</td>\n",
       "      <td>...</td>\n",
       "    </tr>\n",
       "    <tr>\n",
       "      <th>215</th>\n",
       "      <td>DATASET3</td>\n",
       "      <td>139</td>\n",
       "      <td>2</td>\n",
       "      <td>0</td>\n",
       "      <td>1</td>\n",
       "      <td>143</td>\n",
       "      <td>LINUX</td>\n",
       "      <td>LARGE</td>\n",
       "    </tr>\n",
       "    <tr>\n",
       "      <th>218</th>\n",
       "      <td>DATASET3</td>\n",
       "      <td>161</td>\n",
       "      <td>2</td>\n",
       "      <td>0</td>\n",
       "      <td>1</td>\n",
       "      <td>165</td>\n",
       "      <td>LINUX</td>\n",
       "      <td>LARGE</td>\n",
       "    </tr>\n",
       "    <tr>\n",
       "      <th>229</th>\n",
       "      <td>DATASET3</td>\n",
       "      <td>155</td>\n",
       "      <td>2</td>\n",
       "      <td>0</td>\n",
       "      <td>1</td>\n",
       "      <td>159</td>\n",
       "      <td>LINUX</td>\n",
       "      <td>LARGE</td>\n",
       "    </tr>\n",
       "    <tr>\n",
       "      <th>234</th>\n",
       "      <td>DATASET3</td>\n",
       "      <td>148</td>\n",
       "      <td>2</td>\n",
       "      <td>0</td>\n",
       "      <td>1</td>\n",
       "      <td>152</td>\n",
       "      <td>LINUX</td>\n",
       "      <td>LARGE</td>\n",
       "    </tr>\n",
       "    <tr>\n",
       "      <th>235</th>\n",
       "      <td>DATASET3</td>\n",
       "      <td>150</td>\n",
       "      <td>2</td>\n",
       "      <td>0</td>\n",
       "      <td>1</td>\n",
       "      <td>154</td>\n",
       "      <td>LINUX</td>\n",
       "      <td>LARGE</td>\n",
       "    </tr>\n",
       "  </tbody>\n",
       "</table>\n",
       "<p>1637 rows × 8 columns</p>\n",
       "</div>"
      ],
      "text/plain": [
       "      dataset  process_time_ms  pre_time_ms  tag_time_ms  pos_time_ms  \\\n",
       "3    DATASET1              103            0            0            0   \n",
       "5    DATASET1              105            0            0            0   \n",
       "7    DATASET1              102            0            0            0   \n",
       "8    DATASET1              115            0            0            0   \n",
       "10   DATASET1              114            0            0            0   \n",
       "..        ...              ...          ...          ...          ...   \n",
       "215  DATASET3              139            2            0            1   \n",
       "218  DATASET3              161            2            0            1   \n",
       "229  DATASET3              155            2            0            1   \n",
       "234  DATASET3              148            2            0            1   \n",
       "235  DATASET3              150            2            0            1   \n",
       "\n",
       "     total_time_ms           system resolution_label  \n",
       "3              109  Chrome_92_Linux            SMALL  \n",
       "5              111  Chrome_92_Linux            SMALL  \n",
       "7              108  Chrome_92_Linux            SMALL  \n",
       "8              121  Chrome_92_Linux            SMALL  \n",
       "10             120  Chrome_92_Linux            SMALL  \n",
       "..             ...              ...              ...  \n",
       "215            143            LINUX            LARGE  \n",
       "218            165            LINUX            LARGE  \n",
       "229            159            LINUX            LARGE  \n",
       "234            152            LINUX            LARGE  \n",
       "235            154            LINUX            LARGE  \n",
       "\n",
       "[1637 rows x 8 columns]"
      ]
     },
     "execution_count": 15,
     "metadata": {},
     "output_type": "execute_result"
    }
   ],
   "source": [
    "def remove_outliers(df_ds_copy, res, system, lim_sup, lim_inf):\n",
    "    df_ds_s = df_ds_copy[(df_ds_copy[\"resolution_label\"] == res) \n",
    "                & (df_ds_copy[\"system\"] == system) \n",
    "                & ((df_ds_copy['process_time_ms'] > lim_sup)\n",
    "                | (df_ds_copy['process_time_ms'] < lim_inf))]\n",
    "    index = df_ds_s.index\n",
    "    df_ds_copy = df_ds_copy.drop(index=index)\n",
    "    return df_ds_copy\n",
    "\n",
    "df_ds = remove_outliers(df_ds, 'SMALL', CHROME, lim_sup_s_c, lim_inf_s_c)\n",
    "df_ds = remove_outliers(df_ds, 'SMALL', FIREFOX, lim_sup_s_f, lim_inf_s_f)\n",
    "df_ds = remove_outliers(df_ds, 'SMALL', NATIVO, lim_sup_s_n, lim_inf_s_n)\n",
    "\n",
    "df_ds = remove_outliers(df_ds, 'MEDIUM', CHROME, lim_sup_m_c, lim_inf_m_c)\n",
    "df_ds = remove_outliers(df_ds, 'MEDIUM', FIREFOX, lim_sup_m_f, lim_inf_m_f)\n",
    "df_ds = remove_outliers(df_ds, 'MEDIUM', NATIVO, lim_sup_m_n, lim_inf_m_n)\n",
    "\n",
    "df_ds = remove_outliers(df_ds, 'LARGE', CHROME, lim_sup_l_c, lim_inf_l_c)\n",
    "df_ds = remove_outliers(df_ds, 'LARGE', FIREFOX, lim_sup_l_f, lim_inf_l_f)\n",
    "df_ds = remove_outliers(df_ds, 'LARGE', NATIVO, lim_sup_l_n, lim_inf_l_n)\n",
    "\n",
    "df_ds"
   ]
  },
  {
   "cell_type": "code",
   "execution_count": 16,
   "metadata": {},
   "outputs": [
    {
     "data": {
      "image/png": "[encoded data removed]",
      "text/plain": [
       "<Figure size 432x288 with 1 Axes>"
      ]
     },
     "metadata": {
      "needs_background": "light"
     },
     "output_type": "display_data"
    }
   ],
   "source": [
    "df_proc_small = get_df_process_time(df_ds,'SMALL')\n",
    "boxplot_small = df_proc_small.boxplot()"
   ]
  },
  {
   "cell_type": "code",
   "execution_count": 17,
   "metadata": {},
   "outputs": [
    {
     "data": {
      "image/png": "[encoded data removed]",
      "text/plain": [
       "<Figure size 432x288 with 1 Axes>"
      ]
     },
     "metadata": {
      "needs_background": "light"
     },
     "output_type": "display_data"
    }
   ],
   "source": [
    "df_proc_medium = get_df_process_time(df_ds,'MEDIUM')\n",
    "boxplot_medium = df_proc_medium.boxplot()"
   ]
  },
  {
   "cell_type": "code",
   "execution_count": 18,
   "metadata": {},
   "outputs": [
    {
     "data": {
      "image/png": "[encoded data removed]",
      "text/plain": [
       "<Figure size 432x288 with 1 Axes>"
      ]
     },
     "metadata": {
      "needs_background": "light"
     },
     "output_type": "display_data"
    }
   ],
   "source": [
    "df_proc_large = get_df_process_time(df_ds,'LARGE')\n",
    "boxplot_large = df_proc_large.boxplot()"
   ]
  },
  {
   "cell_type": "markdown",
   "metadata": {},
   "source": [
    "### Dados de teste - Geral (DATASET1, DATASET2, DATASET3)"
   ]
  },
  {
   "cell_type": "code",
   "execution_count": 19,
   "metadata": {},
   "outputs": [
    {
     "data": {
      "text/html": [
       "<div>\n",
       "<style scoped>\n",
       "    .dataframe tbody tr th:only-of-type {\n",
       "        vertical-align: middle;\n",
       "    }\n",
       "\n",
       "    .dataframe tbody tr th {\n",
       "        vertical-align: top;\n",
       "    }\n",
       "\n",
       "    .dataframe thead tr th {\n",
       "        text-align: left;\n",
       "    }\n",
       "\n",
       "    .dataframe thead tr:last-of-type th {\n",
       "        text-align: right;\n",
       "    }\n",
       "</style>\n",
       "<table border=\"1\" class=\"dataframe\">\n",
       "  <thead>\n",
       "    <tr>\n",
       "      <th></th>\n",
       "      <th></th>\n",
       "      <th></th>\n",
       "      <th>total_time_ms</th>\n",
       "    </tr>\n",
       "    <tr>\n",
       "      <th></th>\n",
       "      <th></th>\n",
       "      <th></th>\n",
       "      <th>count</th>\n",
       "    </tr>\n",
       "    <tr>\n",
       "      <th>dataset</th>\n",
       "      <th>system</th>\n",
       "      <th>resolution_label</th>\n",
       "      <th></th>\n",
       "    </tr>\n",
       "  </thead>\n",
       "  <tbody>\n",
       "    <tr>\n",
       "      <th rowspan=\"9\" valign=\"top\">DATASET1</th>\n",
       "      <th rowspan=\"3\" valign=\"top\">Chrome_92_Linux</th>\n",
       "      <th>LARGE</th>\n",
       "      <td>60</td>\n",
       "    </tr>\n",
       "    <tr>\n",
       "      <th>MEDIUM</th>\n",
       "      <td>63</td>\n",
       "    </tr>\n",
       "    <tr>\n",
       "      <th>SMALL</th>\n",
       "      <td>55</td>\n",
       "    </tr>\n",
       "    <tr>\n",
       "      <th rowspan=\"3\" valign=\"top\">Firefox_91_UNIX</th>\n",
       "      <th>LARGE</th>\n",
       "      <td>63</td>\n",
       "    </tr>\n",
       "    <tr>\n",
       "      <th>MEDIUM</th>\n",
       "      <td>67</td>\n",
       "    </tr>\n",
       "    <tr>\n",
       "      <th>SMALL</th>\n",
       "      <td>56</td>\n",
       "    </tr>\n",
       "    <tr>\n",
       "      <th rowspan=\"3\" valign=\"top\">LINUX</th>\n",
       "      <th>LARGE</th>\n",
       "      <td>59</td>\n",
       "    </tr>\n",
       "    <tr>\n",
       "      <th>MEDIUM</th>\n",
       "      <td>59</td>\n",
       "    </tr>\n",
       "    <tr>\n",
       "      <th>SMALL</th>\n",
       "      <td>63</td>\n",
       "    </tr>\n",
       "    <tr>\n",
       "      <th rowspan=\"9\" valign=\"top\">DATASET2</th>\n",
       "      <th rowspan=\"3\" valign=\"top\">Chrome_92_Linux</th>\n",
       "      <th>LARGE</th>\n",
       "      <td>23</td>\n",
       "    </tr>\n",
       "    <tr>\n",
       "      <th>MEDIUM</th>\n",
       "      <td>34</td>\n",
       "    </tr>\n",
       "    <tr>\n",
       "      <th>SMALL</th>\n",
       "      <td>21</td>\n",
       "    </tr>\n",
       "    <tr>\n",
       "      <th rowspan=\"3\" valign=\"top\">Firefox_91_UNIX</th>\n",
       "      <th>LARGE</th>\n",
       "      <td>27</td>\n",
       "    </tr>\n",
       "    <tr>\n",
       "      <th>MEDIUM</th>\n",
       "      <td>28</td>\n",
       "    </tr>\n",
       "    <tr>\n",
       "      <th>SMALL</th>\n",
       "      <td>14</td>\n",
       "    </tr>\n",
       "    <tr>\n",
       "      <th rowspan=\"3\" valign=\"top\">LINUX</th>\n",
       "      <th>LARGE</th>\n",
       "      <td>33</td>\n",
       "    </tr>\n",
       "    <tr>\n",
       "      <th>MEDIUM</th>\n",
       "      <td>32</td>\n",
       "    </tr>\n",
       "    <tr>\n",
       "      <th>SMALL</th>\n",
       "      <td>21</td>\n",
       "    </tr>\n",
       "    <tr>\n",
       "      <th rowspan=\"9\" valign=\"top\">DATASET3</th>\n",
       "      <th rowspan=\"3\" valign=\"top\">Chrome_92_Linux</th>\n",
       "      <th>LARGE</th>\n",
       "      <td>103</td>\n",
       "    </tr>\n",
       "    <tr>\n",
       "      <th>MEDIUM</th>\n",
       "      <td>102</td>\n",
       "    </tr>\n",
       "    <tr>\n",
       "      <th>SMALL</th>\n",
       "      <td>89</td>\n",
       "    </tr>\n",
       "    <tr>\n",
       "      <th rowspan=\"3\" valign=\"top\">Firefox_91_UNIX</th>\n",
       "      <th>LARGE</th>\n",
       "      <td>83</td>\n",
       "    </tr>\n",
       "    <tr>\n",
       "      <th>MEDIUM</th>\n",
       "      <td>101</td>\n",
       "    </tr>\n",
       "    <tr>\n",
       "      <th>SMALL</th>\n",
       "      <td>91</td>\n",
       "    </tr>\n",
       "    <tr>\n",
       "      <th rowspan=\"3\" valign=\"top\">LINUX</th>\n",
       "      <th>LARGE</th>\n",
       "      <td>89</td>\n",
       "    </tr>\n",
       "    <tr>\n",
       "      <th>MEDIUM</th>\n",
       "      <td>103</td>\n",
       "    </tr>\n",
       "    <tr>\n",
       "      <th>SMALL</th>\n",
       "      <td>98</td>\n",
       "    </tr>\n",
       "  </tbody>\n",
       "</table>\n",
       "</div>"
      ],
      "text/plain": [
       "                                          total_time_ms\n",
       "                                                  count\n",
       "dataset  system          resolution_label              \n",
       "DATASET1 Chrome_92_Linux LARGE                       60\n",
       "                         MEDIUM                      63\n",
       "                         SMALL                       55\n",
       "         Firefox_91_UNIX LARGE                       63\n",
       "                         MEDIUM                      67\n",
       "                         SMALL                       56\n",
       "         LINUX           LARGE                       59\n",
       "                         MEDIUM                      59\n",
       "                         SMALL                       63\n",
       "DATASET2 Chrome_92_Linux LARGE                       23\n",
       "                         MEDIUM                      34\n",
       "                         SMALL                       21\n",
       "         Firefox_91_UNIX LARGE                       27\n",
       "                         MEDIUM                      28\n",
       "                         SMALL                       14\n",
       "         LINUX           LARGE                       33\n",
       "                         MEDIUM                      32\n",
       "                         SMALL                       21\n",
       "DATASET3 Chrome_92_Linux LARGE                      103\n",
       "                         MEDIUM                     102\n",
       "                         SMALL                       89\n",
       "         Firefox_91_UNIX LARGE                       83\n",
       "                         MEDIUM                     101\n",
       "                         SMALL                       91\n",
       "         LINUX           LARGE                       89\n",
       "                         MEDIUM                     103\n",
       "                         SMALL                       98"
      ]
     },
     "execution_count": 19,
     "metadata": {},
     "output_type": "execute_result"
    }
   ],
   "source": [
    "#dataset,process_time_ms,pre_time_ms,tag_time_ms,pos_time_ms,total_time_ms,system,resolution_label\n",
    "df_ds_group = df_ds.groupby(['dataset','system', 'resolution_label'])\n",
    "df_ds_group[['total_time_ms']].agg(['count'])"
   ]
  },
  {
   "cell_type": "code",
   "execution_count": 26,
   "metadata": {},
   "outputs": [
    {
     "data": {
      "text/html": [
       "<div>\n",
       "<style scoped>\n",
       "    .dataframe tbody tr th:only-of-type {\n",
       "        vertical-align: middle;\n",
       "    }\n",
       "\n",
       "    .dataframe tbody tr th {\n",
       "        vertical-align: top;\n",
       "    }\n",
       "\n",
       "    .dataframe thead tr th {\n",
       "        text-align: left;\n",
       "    }\n",
       "\n",
       "    .dataframe thead tr:last-of-type th {\n",
       "        text-align: right;\n",
       "    }\n",
       "</style>\n",
       "<table border=\"1\" class=\"dataframe\">\n",
       "  <thead>\n",
       "    <tr>\n",
       "      <th></th>\n",
       "      <th></th>\n",
       "      <th colspan=\"2\" halign=\"left\">process_time_ms</th>\n",
       "      <th colspan=\"2\" halign=\"left\">pre_time_ms</th>\n",
       "      <th colspan=\"2\" halign=\"left\">tag_time_ms</th>\n",
       "      <th colspan=\"2\" halign=\"left\">pos_time_ms</th>\n",
       "      <th colspan=\"2\" halign=\"left\">total_time_ms</th>\n",
       "    </tr>\n",
       "    <tr>\n",
       "      <th></th>\n",
       "      <th></th>\n",
       "      <th>mean</th>\n",
       "      <th>median</th>\n",
       "      <th>mean</th>\n",
       "      <th>median</th>\n",
       "      <th>mean</th>\n",
       "      <th>median</th>\n",
       "      <th>mean</th>\n",
       "      <th>median</th>\n",
       "      <th>mean</th>\n",
       "      <th>median</th>\n",
       "    </tr>\n",
       "    <tr>\n",
       "      <th>system</th>\n",
       "      <th>resolution_label</th>\n",
       "      <th></th>\n",
       "      <th></th>\n",
       "      <th></th>\n",
       "      <th></th>\n",
       "      <th></th>\n",
       "      <th></th>\n",
       "      <th></th>\n",
       "      <th></th>\n",
       "      <th></th>\n",
       "      <th></th>\n",
       "    </tr>\n",
       "  </thead>\n",
       "  <tbody>\n",
       "    <tr>\n",
       "      <th rowspan=\"3\" valign=\"top\">Chrome_92_Linux</th>\n",
       "      <th>LARGE</th>\n",
       "      <td>536.881720</td>\n",
       "      <td>477.0</td>\n",
       "      <td>2.322581</td>\n",
       "      <td>2.0</td>\n",
       "      <td>0.000000</td>\n",
       "      <td>0.0</td>\n",
       "      <td>0.0</td>\n",
       "      <td>0.0</td>\n",
       "      <td>576.096774</td>\n",
       "      <td>509.5</td>\n",
       "    </tr>\n",
       "    <tr>\n",
       "      <th>MEDIUM</th>\n",
       "      <td>253.085427</td>\n",
       "      <td>242.0</td>\n",
       "      <td>0.919598</td>\n",
       "      <td>1.0</td>\n",
       "      <td>0.000000</td>\n",
       "      <td>0.0</td>\n",
       "      <td>0.0</td>\n",
       "      <td>0.0</td>\n",
       "      <td>269.231156</td>\n",
       "      <td>258.0</td>\n",
       "    </tr>\n",
       "    <tr>\n",
       "      <th>SMALL</th>\n",
       "      <td>112.387879</td>\n",
       "      <td>110.0</td>\n",
       "      <td>0.000000</td>\n",
       "      <td>0.0</td>\n",
       "      <td>0.000000</td>\n",
       "      <td>0.0</td>\n",
       "      <td>0.0</td>\n",
       "      <td>0.0</td>\n",
       "      <td>119.884848</td>\n",
       "      <td>118.0</td>\n",
       "    </tr>\n",
       "    <tr>\n",
       "      <th rowspan=\"3\" valign=\"top\">Firefox_91_UNIX</th>\n",
       "      <th>LARGE</th>\n",
       "      <td>566.763006</td>\n",
       "      <td>536.0</td>\n",
       "      <td>3.387283</td>\n",
       "      <td>3.0</td>\n",
       "      <td>0.075145</td>\n",
       "      <td>0.0</td>\n",
       "      <td>0.0</td>\n",
       "      <td>0.0</td>\n",
       "      <td>581.404624</td>\n",
       "      <td>544.0</td>\n",
       "    </tr>\n",
       "    <tr>\n",
       "      <th>MEDIUM</th>\n",
       "      <td>251.602041</td>\n",
       "      <td>234.0</td>\n",
       "      <td>1.260204</td>\n",
       "      <td>1.0</td>\n",
       "      <td>0.086735</td>\n",
       "      <td>0.0</td>\n",
       "      <td>0.0</td>\n",
       "      <td>0.0</td>\n",
       "      <td>259.219388</td>\n",
       "      <td>241.0</td>\n",
       "    </tr>\n",
       "    <tr>\n",
       "      <th>SMALL</th>\n",
       "      <td>116.012422</td>\n",
       "      <td>113.0</td>\n",
       "      <td>0.490683</td>\n",
       "      <td>0.0</td>\n",
       "      <td>0.031056</td>\n",
       "      <td>0.0</td>\n",
       "      <td>0.0</td>\n",
       "      <td>0.0</td>\n",
       "      <td>119.347826</td>\n",
       "      <td>117.0</td>\n",
       "    </tr>\n",
       "    <tr>\n",
       "      <th rowspan=\"3\" valign=\"top\">LINUX</th>\n",
       "      <th>LARGE</th>\n",
       "      <td>171.729282</td>\n",
       "      <td>151.0</td>\n",
       "      <td>2.000000</td>\n",
       "      <td>2.0</td>\n",
       "      <td>0.000000</td>\n",
       "      <td>0.0</td>\n",
       "      <td>1.0</td>\n",
       "      <td>1.0</td>\n",
       "      <td>175.668508</td>\n",
       "      <td>155.0</td>\n",
       "    </tr>\n",
       "    <tr>\n",
       "      <th>MEDIUM</th>\n",
       "      <td>73.597938</td>\n",
       "      <td>71.5</td>\n",
       "      <td>0.000000</td>\n",
       "      <td>0.0</td>\n",
       "      <td>0.000000</td>\n",
       "      <td>0.0</td>\n",
       "      <td>0.0</td>\n",
       "      <td>0.0</td>\n",
       "      <td>74.319588</td>\n",
       "      <td>72.5</td>\n",
       "    </tr>\n",
       "    <tr>\n",
       "      <th>SMALL</th>\n",
       "      <td>32.467033</td>\n",
       "      <td>34.0</td>\n",
       "      <td>0.000000</td>\n",
       "      <td>0.0</td>\n",
       "      <td>0.000000</td>\n",
       "      <td>0.0</td>\n",
       "      <td>0.0</td>\n",
       "      <td>0.0</td>\n",
       "      <td>32.945055</td>\n",
       "      <td>34.0</td>\n",
       "    </tr>\n",
       "  </tbody>\n",
       "</table>\n",
       "</div>"
      ],
      "text/plain": [
       "                                 process_time_ms        pre_time_ms         \\\n",
       "                                            mean median        mean median   \n",
       "system          resolution_label                                             \n",
       "Chrome_92_Linux LARGE                 536.881720  477.0    2.322581    2.0   \n",
       "                MEDIUM                253.085427  242.0    0.919598    1.0   \n",
       "                SMALL                 112.387879  110.0    0.000000    0.0   \n",
       "Firefox_91_UNIX LARGE                 566.763006  536.0    3.387283    3.0   \n",
       "                MEDIUM                251.602041  234.0    1.260204    1.0   \n",
       "                SMALL                 116.012422  113.0    0.490683    0.0   \n",
       "LINUX           LARGE                 171.729282  151.0    2.000000    2.0   \n",
       "                MEDIUM                 73.597938   71.5    0.000000    0.0   \n",
       "                SMALL                  32.467033   34.0    0.000000    0.0   \n",
       "\n",
       "                                 tag_time_ms        pos_time_ms         \\\n",
       "                                        mean median        mean median   \n",
       "system          resolution_label                                         \n",
       "Chrome_92_Linux LARGE               0.000000    0.0         0.0    0.0   \n",
       "                MEDIUM              0.000000    0.0         0.0    0.0   \n",
       "                SMALL               0.000000    0.0         0.0    0.0   \n",
       "Firefox_91_UNIX LARGE               0.075145    0.0         0.0    0.0   \n",
       "                MEDIUM              0.086735    0.0         0.0    0.0   \n",
       "                SMALL               0.031056    0.0         0.0    0.0   \n",
       "LINUX           LARGE               0.000000    0.0         1.0    1.0   \n",
       "                MEDIUM              0.000000    0.0         0.0    0.0   \n",
       "                SMALL               0.000000    0.0         0.0    0.0   \n",
       "\n",
       "                                 total_time_ms         \n",
       "                                          mean median  \n",
       "system          resolution_label                       \n",
       "Chrome_92_Linux LARGE               576.096774  509.5  \n",
       "                MEDIUM              269.231156  258.0  \n",
       "                SMALL               119.884848  118.0  \n",
       "Firefox_91_UNIX LARGE               581.404624  544.0  \n",
       "                MEDIUM              259.219388  241.0  \n",
       "                SMALL               119.347826  117.0  \n",
       "LINUX           LARGE               175.668508  155.0  \n",
       "                MEDIUM               74.319588   72.5  \n",
       "                SMALL                32.945055   34.0  "
      ]
     },
     "execution_count": 26,
     "metadata": {},
     "output_type": "execute_result"
    }
   ],
   "source": [
    "#dataset,process_time_ms,pre_time_ms,tag_time_ms,pos_time_ms,total_time_ms,system,resolution_label\n",
    "df_ds_group = df_ds.groupby(['system', 'resolution_label'])\n",
    "df_ds_st = df_ds_group[\n",
    "    ['process_time_ms','pre_time_ms','tag_time_ms','pos_time_ms','total_time_ms']\n",
    "].agg([np.mean, np.median])\n",
    "df_ds_st"
   ]
  },
  {
   "cell_type": "markdown",
   "metadata": {},
   "source": [
    "## Analise de Performance de Todas as Fase de Processamento"
   ]
  },
  {
   "cell_type": "code",
   "execution_count": 27,
   "metadata": {},
   "outputs": [
    {
     "data": {
      "image/png": "[encoded data removed]",
      "text/plain": [
       "<Figure size 576x432 with 1 Axes>"
      ]
     },
     "metadata": {
      "needs_background": "light"
     },
     "output_type": "display_data"
    },
    {
     "name": "stdout",
     "output_type": "stream",
     "text": [
      "Nativo resolution_label\n",
      "SMALL      34.0\n",
      "MEDIUM     72.5\n",
      "LARGE     155.0\n",
      "Name: median, dtype: float64\n",
      "Wams Firefox resolution_label\n",
      "SMALL     117.0\n",
      "MEDIUM    241.0\n",
      "LARGE     544.0\n",
      "Name: median, dtype: float64\n",
      "Wams Chrome resolution_label\n",
      "SMALL     118.0\n",
      "MEDIUM    258.0\n",
      "LARGE     509.5\n",
      "Name: median, dtype: float64\n",
      "Comparação Nativo x Firefox: -2.424997273659186\n",
      "Comparação Chrome x Firefox: 0.002217534861973236\n"
     ]
    }
   ],
   "source": [
    "total_c = df_ds_st.loc['Chrome_92_Linux']['total_time_ms']['median'].sort_values()\n",
    "total_f = df_ds_st.loc['Firefox_91_UNIX']['total_time_ms']['median'].sort_values()\n",
    "total_w = df_ds_st.loc['LINUX']['total_time_ms']['median'].sort_values()\n",
    "activity = [\"BAIXA\", \"MÉDIA\", \"ALTA\"]\n",
    "\n",
    "plt.rcParams[\"figure.figsize\"] = (8,6)\n",
    "\n",
    "linestyles = ['-', '--', '-.', ':']\n",
    "\n",
    "fig, ax1 = plt.subplots()\n",
    "ax1.plot(activity, total_c, label=\"WASM - \" + CHROME_L, linestyle=linestyles[0])\n",
    "ax1.plot(activity, total_f, label=\"WASM - \" + FIREFOX_L,linestyle=linestyles[1])\n",
    "ax1.plot(activity, total_w, label=\"NATIVO - \" + NATIVO_L,linestyle=linestyles[3])\n",
    "ax1.legend()\n",
    "\n",
    "plt.xlabel('Resolução da Imagem')\n",
    "plt.ylabel('Tempo mediana de todas as fases  (ms)')\n",
    "plt.title(\"Peformance Geral da Prova de Conceito\")\n",
    "plt.legend()\n",
    "\n",
    "plt.show()\n",
    "\n",
    "print(\"Nativo\", total_w)\n",
    "print(\"Wams Firefox\", total_f)\n",
    "print(\"Wams Chrome\", total_c)\n",
    "print(\"Comparação Nativo x Firefox:\", ((((total_w - total_f) * 100)/total_w)/100).mean())\n",
    "print(\"Comparação Chrome x Firefox:\", ((((total_c - total_f) * 100)/total_c)/100).mean())"
   ]
  },
  {
   "cell_type": "markdown",
   "metadata": {},
   "source": [
    "## Analise de Performance de Pré-Processamento"
   ]
  },
  {
   "cell_type": "code",
   "execution_count": 22,
   "metadata": {},
   "outputs": [
    {
     "data": {
      "image/png": "[encoded data removed]",
      "text/plain": [
       "<Figure size 576x432 with 1 Axes>"
      ]
     },
     "metadata": {
      "needs_background": "light"
     },
     "output_type": "display_data"
    },
    {
     "name": "stdout",
     "output_type": "stream",
     "text": [
      "Nativo resolution_label\n",
      "MEDIUM    0.0\n",
      "SMALL     0.0\n",
      "LARGE     2.0\n",
      "Name: median, dtype: float64\n",
      "Wams Firefox resolution_label\n",
      "SMALL     0.0\n",
      "MEDIUM    1.0\n",
      "LARGE     3.0\n",
      "Name: median, dtype: float64\n",
      "Wams Chrome resolution_label\n",
      "SMALL     0.0\n",
      "MEDIUM    1.0\n",
      "LARGE     2.0\n",
      "Name: median, dtype: float64\n",
      "Comparação Chrome x Nativo: 0.5\n",
      "Comparação Chrome x Firefox: -0.25\n"
     ]
    }
   ],
   "source": [
    "pre_c = df_ds_st.loc['Chrome_92_Linux']['pre_time_ms']['median'].sort_values()\n",
    "pre_f = df_ds_st.loc['Firefox_91_UNIX']['pre_time_ms']['median'].sort_values()\n",
    "pre_w = df_ds_st.loc['LINUX']['pre_time_ms']['median'].sort_values()\n",
    "activity = [\"BAIXA\", \"MÉDIA\", \"ALTA\"]\n",
    "\n",
    "fig, ax = plt.subplots()\n",
    "ax.plot(activity, pre_c, label=\"WASM - \"+ CHROME_L,linestyle=linestyles[0])\n",
    "ax.plot(activity, pre_f, label=\"WASM - \"+ FIREFOX_L,linestyle=linestyles[1])\n",
    "ax.plot(activity, pre_w, label=\"Native - \"+ NATIVO_L ,linestyle=linestyles[3])\n",
    "ax.legend()\n",
    "\n",
    "plt.xlabel('Resolução da Imagem')\n",
    "plt.ylabel('Tempo mediano do Pré-Processamento (ms)')\n",
    "plt.title(\"Performance da fase de Pré-Processamento.\")\n",
    "plt.legend()\n",
    "\n",
    "plt.show()\n",
    "\n",
    "print(\"Nativo\", pre_w)\n",
    "print(\"Wams Firefox\", pre_f)\n",
    "print(\"Wams Chrome\", pre_c)\n",
    "print(\"Comparação Chrome x Nativo:\", ((((pre_c - pre_w) * 100)/pre_c)/100).median())\n",
    "print(\"Comparação Chrome x Firefox:\", ((((pre_c - pre_f) * 100)/pre_c)/100).median())"
   ]
  },
  {
   "cell_type": "markdown",
   "metadata": {},
   "source": [
    "## Analise de Performance do Processamento prioncipal - Detecção de Faces"
   ]
  },
  {
   "cell_type": "code",
   "execution_count": 23,
   "metadata": {},
   "outputs": [
    {
     "data": {
      "image/png": "[encoded data removed]",
      "text/plain": [
       "<Figure size 576x432 with 1 Axes>"
      ]
     },
     "metadata": {
      "needs_background": "light"
     },
     "output_type": "display_data"
    },
    {
     "name": "stdout",
     "output_type": "stream",
     "text": [
      "Nativo resolution_label\n",
      "SMALL     110.0\n",
      "MEDIUM    242.0\n",
      "LARGE     477.0\n",
      "Name: median, dtype: float64\n",
      "Wams Firefox resolution_label\n",
      "SMALL     113.0\n",
      "MEDIUM    234.0\n",
      "LARGE     536.0\n",
      "Name: median, dtype: float64\n",
      "Wams Chrome resolution_label\n",
      "SMALL     110.0\n",
      "MEDIUM    242.0\n",
      "LARGE     477.0\n",
      "Name: median, dtype: float64\n",
      "Comparação Nativo x Firefox: -2.3235294117647056\n",
      "Comparação Firefox x Chrome: 0.02654867256637168\n"
     ]
    }
   ],
   "source": [
    "pro_c = df_ds_st.loc['Chrome_92_Linux']['process_time_ms']['median'].sort_values()\n",
    "pro_f = df_ds_st.loc['Firefox_91_UNIX']['process_time_ms']['median'].sort_values()\n",
    "pro_w = df_ds_st.loc['LINUX']['process_time_ms']['median'].sort_values()\n",
    "activity = [\"BAIXA\", \"MÉDIA\", \"ALTA\"]\n",
    "\n",
    "fig, ax = plt.subplots()\n",
    "ax.plot(activity, pro_c, label=\"WASM - \"+CHROME_L,linestyle=linestyles[0])\n",
    "ax.plot(activity, pro_f, label=\"WASM - \"+FIREFOX_L,linestyle=linestyles[1])\n",
    "ax.plot(activity, pro_w, label=\"NATIVO -\"+NATIVO_L,linestyle=linestyles[3])\n",
    "ax.legend()\n",
    "\n",
    "plt.xlabel('Resolução da Imagem')\n",
    "plt.ylabel('Tempo mediano da detecção de faces (ms)')\n",
    "plt.title(\"Performance da Detecção de Faces.\")\n",
    "plt.legend()\n",
    "\n",
    "plt.show()\n",
    "\n",
    "print(\"Nativo\", pro_c)\n",
    "print(\"Wams Firefox\", pro_f)\n",
    "print(\"Wams Chrome\", pro_c)\n",
    "print(\"Comparação Nativo x Firefox:\", ((((pro_w - pro_f) * 100)/pro_w)/100).median())\n",
    "print(\"Comparação Firefox x Chrome:\", ((((pro_f - pro_c) * 100)/pro_f)/100).median())"
   ]
  },
  {
   "cell_type": "markdown",
   "metadata": {},
   "source": [
    "## Analise de Performance da marcação de faces na imagem"
   ]
  },
  {
   "cell_type": "code",
   "execution_count": 24,
   "metadata": {},
   "outputs": [
    {
     "data": {
      "image/png": "[encoded data removed]",
      "text/plain": [
       "<Figure size 576x432 with 1 Axes>"
      ]
     },
     "metadata": {
      "needs_background": "light"
     },
     "output_type": "display_data"
    },
    {
     "name": "stdout",
     "output_type": "stream",
     "text": [
      "Nativo resolution_label\n",
      "LARGE     0.0\n",
      "MEDIUM    0.0\n",
      "SMALL     0.0\n",
      "Name: median, dtype: float64\n",
      "Wams Firefox resolution_label\n",
      "LARGE     0.0\n",
      "MEDIUM    0.0\n",
      "SMALL     0.0\n",
      "Name: median, dtype: float64\n",
      "Wams Chrome resolution_label\n",
      "LARGE     0.0\n",
      "MEDIUM    0.0\n",
      "SMALL     0.0\n",
      "Name: median, dtype: float64\n",
      "Comparação Nativo x Firefox: nan\n",
      "Comparação Firefox x Chrome: nan\n"
     ]
    }
   ],
   "source": [
    "pro_c = df_ds_st.loc['Chrome_92_Linux']['tag_time_ms']['median'].sort_values()\n",
    "pro_f = df_ds_st.loc['Firefox_91_UNIX']['tag_time_ms']['median'].sort_values()\n",
    "pro_w = df_ds_st.loc['LINUX']['tag_time_ms']['median'].sort_values()\n",
    "activity = [\"BAIXA\", \"MÉDIA\", \"ALTA\"]\n",
    "\n",
    "fig, ax = plt.subplots()\n",
    "ax.plot(activity, pro_c, label=\"WASM - \"+CHROME_L,linestyle=linestyles[0])\n",
    "ax.plot(activity, pro_f, label=\"WASM - \"+FIREFOX_L,linestyle=linestyles[1])\n",
    "ax.plot(activity, pro_w, label=\"NATIVO - \"+NATIVO_L,linestyle=linestyles[3])\n",
    "ax.legend()\n",
    "\n",
    "plt.xlabel('Resolução da Imagem')\n",
    "plt.ylabel('Tempo mediano da marcação de faces (ms)')\n",
    "plt.title(\"Peformace da marcação de faces na imagem\")\n",
    "plt.legend()\n",
    "\n",
    "plt.show()\n",
    "\n",
    "print(\"Nativo\", pro_c)\n",
    "print(\"Wams Firefox\", pro_f)\n",
    "print(\"Wams Chrome\", pro_c)\n",
    "print(\"Comparação Nativo x Firefox:\", ((((pro_w - pro_f) * 100)/pro_w)/100).median())\n",
    "print(\"Comparação Firefox x Chrome:\", ((((pro_f - pro_c) * 100)/pro_f)/100).median())"
   ]
  },
  {
   "cell_type": "code",
   "execution_count": 25,
   "metadata": {},
   "outputs": [
    {
     "data": {
      "image/png": "[encoded data removed]",
      "text/plain": [
       "<Figure size 576x432 with 1 Axes>"
      ]
     },
     "metadata": {
      "needs_background": "light"
     },
     "output_type": "display_data"
    },
    {
     "name": "stdout",
     "output_type": "stream",
     "text": [
      "Nativo resolution_label\n",
      "LARGE     0.0\n",
      "MEDIUM    0.0\n",
      "SMALL     0.0\n",
      "Name: median, dtype: float64\n",
      "Wams Firefox resolution_label\n",
      "LARGE     0.0\n",
      "MEDIUM    0.0\n",
      "SMALL     0.0\n",
      "Name: median, dtype: float64\n",
      "Wams Chrome resolution_label\n",
      "LARGE     0.0\n",
      "MEDIUM    0.0\n",
      "SMALL     0.0\n",
      "Name: median, dtype: float64\n",
      "Comparação Nativo x Firefox: 1.0\n",
      "Comparação Firefox x Chrome: nan\n"
     ]
    }
   ],
   "source": [
    "pro_c = df_ds_st.loc['Chrome_92_Linux']['pos_time_ms']['median'].sort_values()\n",
    "pro_f = df_ds_st.loc['Firefox_91_UNIX']['pos_time_ms']['median'].sort_values()\n",
    "pro_w = df_ds_st.loc['LINUX']['pos_time_ms']['median'].sort_values()\n",
    "activity = [\"BAIXA\", \"MÉDIA\", \"ALTA\"]\n",
    "\n",
    "fig, ax = plt.subplots()\n",
    "ax.plot(activity, pro_c, label=\"WASM - \"+CHROME_L,linestyle=linestyles[0])\n",
    "ax.plot(activity, pro_f, label=\"WASM - \"+FIREFOX_L,linestyle=linestyles[1])\n",
    "ax.plot(activity, pro_w, label=\"NATIVO - \"+NATIVO_L,linestyle=linestyles[3])\n",
    "ax.legend()\n",
    "\n",
    "plt.xlabel('Resolução da Imagem')\n",
    "plt.ylabel('Tempo mediano do pós-processamento (ms)')\n",
    "plt.title(\"Peformace do Pós-processamento\")\n",
    "plt.legend()\n",
    "\n",
    "plt.show()\n",
    "\n",
    "print(\"Nativo\", pro_c)\n",
    "print(\"Wams Firefox\", pro_f)\n",
    "print(\"Wams Chrome\", pro_c)\n",
    "print(\"Comparação Nativo x Firefox:\", ((((pro_w - pro_f) * 100)/pro_w)/100).median())\n",
    "print(\"Comparação Firefox x Chrome:\", ((((pro_f - pro_c) * 100)/pro_f)/100).median())"
   ]
  },
  {
   "cell_type": "markdown",
   "metadata": {},
   "source": []
  },
  {
   "cell_type": "code",
   "execution_count": null,
   "metadata": {},
   "outputs": [],
   "source": []
  }
 ],
 "metadata": {
  "kernelspec": {
   "display_name": "Python 3 (ipykernel)",
   "language": "python",
   "name": "python3"
  },
  "language_info": {
   "codemirror_mode": {
    "name": "ipython",
    "version": 3
   },
   "file_extension": ".py",
   "mimetype": "text/x-python",
   "name": "python",
   "nbconvert_exporter": "python",
   "pygments_lexer": "ipython3",
   "version": "3.9.6"
  }
 },
 "nbformat": 4,
 "nbformat_minor": 2
}
